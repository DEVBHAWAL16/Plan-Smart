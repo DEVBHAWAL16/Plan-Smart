{
 "cells": [
  {
   "cell_type": "markdown",
   "id": "d04926ad-e3bf-4766-9f58-2c92abdd536e",
   "metadata": {},
   "source": [
    "# PlanSmart: Event Cost Estimator and Negotiation Advisor"
   ]
  },
  {
   "cell_type": "markdown",
   "id": "c0837854-1ca3-4e18-b5ad-8fe9a03f4a7f",
   "metadata": {},
   "source": [
    "#### Vendor Data & Pricing Logic"
   ]
  },
  {
   "cell_type": "code",
   "execution_count": 45,
   "id": "54e99055-ab2d-4a87-80f5-7dee955a7e7e",
   "metadata": {},
   "outputs": [],
   "source": [
    "base_guest_count = 100  \n",
    "\n",
    "vendor_prices = {\n",
    "    \"Catering\": 50000,\n",
    "    \"Decoration\": 20000,\n",
    "    \"Photography\": 20000,     \n",
    "    \"Venue Rental\": 125000,    # Fixed up to 500 guests\n",
    "    \"Entertainment\": 25000\n",
    "}\n",
    "\n",
    "vendor_details = {\n",
    "    \"Catering\": \"Foodies Hub\",\n",
    "    \"Decoration\": \"Dream Decor\",\n",
    "    \"Photography\": \"SnapShots\",\n",
    "    \"Venue Rental\": \"Royal Palace\",\n",
    "    \"Entertainment\": \"Fun Events\"\n",
    "}\n",
    "\n",
    "def calculate_scaled_price(service, guests):\n",
    "    scalable_services = [\"Catering\", \"Decoration\", \"Entertainment\"]\n",
    "    base_price = vendor_prices[service]\n",
    "\n",
    "    if service in scalable_services:\n",
    "        scaled_price = (guests / base_guest_count) * base_price\n",
    "    else:\n",
    "        scaled_price = base_price \n",
    "\n",
    "    return int(scaled_price)\n"
   ]
  },
  {
   "cell_type": "markdown",
   "id": "d8d86378-3d04-4b09-a478-2ddf340e9db6",
   "metadata": {},
   "source": [
    " #### Display Service Menu & Get User Inputs"
   ]
  },
  {
   "cell_type": "code",
   "execution_count": 46,
   "id": "7a991887-466e-413f-8f1c-0165ff78f799",
   "metadata": {},
   "outputs": [],
   "source": [
    "def display_service_menu():\n",
    "    print(\"\\nAvailable Services:\")\n",
    "    for idx, service in enumerate(vendor_prices.keys(), start=1):\n",
    "        if service in [\"Catering\", \"Decoration\", \"Entertainment\"]:\n",
    "            print(f\"{idx}. {service} (Base Price: ₹{vendor_prices[service]} for {base_guest_count} guests)\")\n",
    "        elif service == \"Venue Rental\":\n",
    "            print(f\"{idx}. {service} (₹{vendor_prices[service]} only)\")  \n",
    "        else:\n",
    "            print(f\"{idx}. {service} (₹{vendor_prices[service]})\")  \n",
    "            \n",
    "def get_user_inputs():\n",
    "    print(\"\\nWelcome to PlanSmart - Event Cost Estimation Bot!\")\n",
    "\n",
    "    event_type = input(\"Enter event type (Wedding/Birthday/Corporate): \")\n",
    "    guests = int(input(\"Enter total number of guests: \"))\n",
    "\n",
    "    display_service_menu()\n",
    "    selected_numbers = input(\"Select services by entering numbers (comma separated): \")\n",
    "\n",
    "    services = []\n",
    "    service_list = list(vendor_prices.keys())\n",
    "\n",
    "    for num in selected_numbers.split(','):\n",
    "        try:\n",
    "            index = int(num.strip()) - 1\n",
    "            if 0 <= index < len(service_list):\n",
    "                services.append(service_list[index])\n",
    "            else:\n",
    "                print(f\"Service number {num.strip()} is invalid.\")\n",
    "        except ValueError:\n",
    "            print(f\"Invalid input: {num.strip()}\")\n",
    "\n",
    "    budget = int(input(\"Enter your total budget in INR: \"))\n",
    "    return event_type, guests, services, budget\n"
   ]
  },
  {
   "cell_type": "markdown",
   "id": "7e4b3c28-8d42-46fc-8d9e-0d01f2c8df01",
   "metadata": {},
   "source": [
    "#### Total Cost Estimation "
   ]
  },
  {
   "cell_type": "code",
   "execution_count": 47,
   "id": "dd26898e-8586-4bf8-8821-5ba1d95de7e7",
   "metadata": {},
   "outputs": [],
   "source": [
    "def calculate_total_cost(services, guests):\n",
    "    total = 0\n",
    "    print(\"\\n Service Cost Breakdown\")\n",
    "\n",
    "    for service in services:\n",
    "        price = calculate_scaled_price(service, guests)\n",
    "        print(f\"{service} by {vendor_details[service]}: ₹{price}\")\n",
    "        total += price\n",
    "\n",
    "    return total"
   ]
  },
  {
   "cell_type": "markdown",
   "id": "e3e73e51-f042-46de-a99a-a1a3c7df8fc2",
   "metadata": {},
   "source": [
    "#### Budget Comparison Before Negotiation"
   ]
  },
  {
   "cell_type": "code",
   "execution_count": 48,
   "id": "505dab58-4c99-499c-a367-5a760b73f677",
   "metadata": {},
   "outputs": [],
   "source": [
    "def compare_budget(total_cost, budget):\n",
    "    print(\"\\n Budget Comparison \")\n",
    "    print(f\" Estimated Event Cost: ₹{total_cost}\")\n",
    "    print(f\" Your Budget: ₹{budget}\")\n",
    "\n",
    "    difference = total_cost - budget\n",
    "\n",
    "    if difference > 0:\n",
    "        print(f\" Budget Shortfall: ₹{difference}\")\n",
    "    else:\n",
    "        print(f\" You are within budget! Surplus: ₹{abs(difference)}\")\n",
    "\n",
    "    return difference"
   ]
  },
  {
   "cell_type": "markdown",
   "id": "b34d9049-e9bc-4e77-9a9f-058f77f85b70",
   "metadata": {},
   "source": [
    "#### Advanced Negotiation Logic"
   ]
  },
  {
   "cell_type": "code",
   "execution_count": 49,
   "id": "ce2fb255-9802-44be-a112-c019fe18942e",
   "metadata": {},
   "outputs": [],
   "source": [
    "def negotiation_logic(total_cost, budget, services, guests):\n",
    "    difference = total_cost - budget\n",
    "    print(\"\\n Negotiation Simulation \")\n",
    "\n",
    "    if difference <= 0:\n",
    "        print(\" No negotiation needed. Your budget already covers all services.\")\n",
    "        return total_cost\n",
    "\n",
    "    percent_deficit = (difference / total_cost) * 100\n",
    "\n",
    "    negotiated_total = total_cost\n",
    "\n",
    " # If guest count is huge, suggest negotiating even fixed Venue Rental\n",
    "    if guests > 500 and \"Venue Rental\" in services:\n",
    "        extra_discount = vendor_prices[\"Venue Rental\"] * 0.25\n",
    "        print(f\" Special Offer: Due to large guest size (>500), giving extra 25% off on Venue Rental: -₹{int(extra_discount)}\")\n",
    "        negotiated_total -= extra_discount\n",
    "\n",
    "\n",
    "    # Dynamic discount logic\n",
    "    if percent_deficit <= 5:\n",
    "        discount = total_cost * 0.05\n",
    "        print(f\" Offering a 5% goodwill discount: -₹{int(discount)}\")\n",
    "        negotiated_total -= discount\n",
    "    elif percent_deficit <= 10:\n",
    "        discount = total_cost * 0.08\n",
    "        print(f\" You're close! Offering an 8% discount: -₹{int(discount)}\")\n",
    "        negotiated_total -= discount\n",
    "    elif percent_deficit <= 20:\n",
    "        discount = total_cost * 0.10\n",
    "        print(f\" Not too far off! Offering a 10% discount: -₹{int(discount)}\")\n",
    "        negotiated_total -= discount\n",
    "    elif percent_deficit <= 30:\n",
    "        discount = total_cost * 0.12\n",
    "        print(f\" Final offer: 12% discount to help you out: -₹{int(discount)}\")\n",
    "        negotiated_total -= discount\n",
    "    else:\n",
    "        print(\" Budget too low for discounts alone.\")\n",
    "\n",
    "\n",
    "        # Suggest removing optional services\n",
    "        optional_services = [s for s in services if s in ['Entertainment', 'Decoration', 'Photography']]\n",
    "        if optional_services:\n",
    "            print(f\" Consider removing optional services like: {', '.join(optional_services)} to reduce cost.\")\n",
    "        else:\n",
    "            print(\" Consider reducing guest count or revising your budget.\")\n",
    "\n",
    "    return int(negotiated_total)\n"
   ]
  },
  {
   "cell_type": "markdown",
   "id": "307288a1-52fa-4261-8b42-81dc059d4cb7",
   "metadata": {},
   "source": [
    "#### Main Program Execution Flow"
   ]
  },
  {
   "cell_type": "code",
   "execution_count": 51,
   "id": "c20c35a3-1d15-41df-8301-750e2331566d",
   "metadata": {},
   "outputs": [
    {
     "name": "stdout",
     "output_type": "stream",
     "text": [
      "\n",
      "Welcome to PlanSmart - Event Cost Estimation Bot!\n"
     ]
    },
    {
     "name": "stdin",
     "output_type": "stream",
     "text": [
      "Enter event type (Wedding/Birthday/Corporate):  wedding\n",
      "Enter total number of guests:  5000\n"
     ]
    },
    {
     "name": "stdout",
     "output_type": "stream",
     "text": [
      "\n",
      "Available Services:\n",
      "1. Catering (Base Price: ₹50000 for 100 guests)\n",
      "2. Decoration (Base Price: ₹20000 for 100 guests)\n",
      "3. Photography (₹20000)\n",
      "4. Venue Rental (₹125000 only)\n",
      "5. Entertainment (Base Price: ₹25000 for 100 guests)\n"
     ]
    },
    {
     "name": "stdin",
     "output_type": "stream",
     "text": [
      "Select services by entering numbers (comma separated):  1,2,3,4,5\n",
      "Enter your total budget in INR:  1000000\n"
     ]
    },
    {
     "name": "stdout",
     "output_type": "stream",
     "text": [
      "\n",
      " Service Cost Breakdown\n",
      "Catering by Foodies Hub: ₹2500000\n",
      "Decoration by Dream Decor: ₹1000000\n",
      "Photography by SnapShots: ₹20000\n",
      "Venue Rental by Royal Palace: ₹125000\n",
      "Entertainment by Fun Events: ₹1250000\n",
      "\n",
      " Budget Comparison \n",
      " Estimated Event Cost: ₹4895000\n",
      " Your Budget: ₹1000000\n",
      " Budget Shortfall: ₹3895000\n",
      "\n",
      " Negotiation Simulation \n",
      " Special Offer: Due to large guest size (>500), giving extra 25% off on Venue Rental: -₹31250\n",
      " Budget too low for discounts alone.\n",
      " Consider removing optional services like: Decoration, Photography, Entertainment to reduce cost.\n",
      "\n",
      " Final Cost After Negotiation: ₹4863750\n",
      "\n",
      " Even after negotiation, the event exceeds your budget. Please consider adjustments.\n"
     ]
    }
   ],
   "source": [
    "event_type, guests, services, budget = get_user_inputs()\n",
    "total_cost = calculate_total_cost(services, guests)\n",
    "difference = compare_budget(total_cost, budget)\n",
    "final_cost = negotiation_logic(total_cost, budget, services, guests)\n",
    "\n",
    "print(f\"\\n Final Cost After Negotiation: ₹{final_cost}\")\n",
    "\n",
    "if final_cost <= budget:\n",
    "    print(\"\\n Congratulations! Your event now fits your budget after negotiation.\")\n",
    "else:\n",
    "    print(\"\\n Even after negotiation, the event exceeds your budget. Please consider adjustments.\")"
   ]
  },
  {
   "cell_type": "code",
   "execution_count": null,
   "id": "de04d9ed-1614-4944-bb24-39b2f38b38e5",
   "metadata": {},
   "outputs": [],
   "source": []
  },
  {
   "cell_type": "code",
   "execution_count": null,
   "id": "2108840c-f1c9-4909-a157-dc43e587e54d",
   "metadata": {},
   "outputs": [],
   "source": []
  },
  {
   "cell_type": "code",
   "execution_count": null,
   "id": "f5112eed-4ade-4c1b-8aa2-d7336578d8f4",
   "metadata": {},
   "outputs": [],
   "source": []
  },
  {
   "cell_type": "code",
   "execution_count": null,
   "id": "483d8a71-7ebc-458e-9d89-13ff119bdfe9",
   "metadata": {},
   "outputs": [],
   "source": []
  },
  {
   "cell_type": "code",
   "execution_count": null,
   "id": "d369e3c0-2279-4df8-a5cb-774a79ab8b89",
   "metadata": {},
   "outputs": [],
   "source": []
  },
  {
   "cell_type": "code",
   "execution_count": null,
   "id": "c8fed9e1-2fe2-4d11-98e9-68a67c991efe",
   "metadata": {},
   "outputs": [],
   "source": []
  },
  {
   "cell_type": "code",
   "execution_count": null,
   "id": "9b092b0c-b1bf-47c2-8b22-a4fe585fa549",
   "metadata": {},
   "outputs": [],
   "source": []
  },
  {
   "cell_type": "code",
   "execution_count": null,
   "id": "c380def9-ba1d-48f2-a887-13d1e699a139",
   "metadata": {},
   "outputs": [],
   "source": []
  }
 ],
 "metadata": {
  "kernelspec": {
   "display_name": "Python 3 (ipykernel)",
   "language": "python",
   "name": "python3"
  },
  "language_info": {
   "codemirror_mode": {
    "name": "ipython",
    "version": 3
   },
   "file_extension": ".py",
   "mimetype": "text/x-python",
   "name": "python",
   "nbconvert_exporter": "python",
   "pygments_lexer": "ipython3",
   "version": "3.11.4"
  }
 },
 "nbformat": 4,
 "nbformat_minor": 5
}
